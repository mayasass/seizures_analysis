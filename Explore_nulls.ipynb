{
 "cells": [
  {
   "cell_type": "code",
   "id": "initial_id",
   "metadata": {
    "collapsed": true,
    "ExecuteTime": {
     "end_time": "2025-03-27T13:27:27.804602Z",
     "start_time": "2025-03-27T13:27:26.577439Z"
    }
   },
   "source": [
    "import pandas as pd\n",
    "\n",
    "df = pd.read_csv(\"/Users/maya/Documents/NEWEST_all_electrodes_all_host_seizures_analysis_20250121_140551.csv\")"
   ],
   "outputs": [],
   "execution_count": 1
  },
  {
   "metadata": {
    "ExecuteTime": {
     "end_time": "2025-03-27T13:29:33.192119Z",
     "start_time": "2025-03-27T13:29:33.179542Z"
    }
   },
   "cell_type": "code",
   "source": "(df.isna().sum() > 0).sum()",
   "id": "4df89b07b682e3e1",
   "outputs": [
    {
     "data": {
      "text/plain": [
       "np.int64(75)"
      ]
     },
     "execution_count": 4,
     "metadata": {},
     "output_type": "execute_result"
    }
   ],
   "execution_count": 4
  },
  {
   "metadata": {
    "ExecuteTime": {
     "end_time": "2025-03-27T13:28:43.538506Z",
     "start_time": "2025-03-27T13:28:43.532007Z"
    }
   },
   "cell_type": "code",
   "source": "df.shape",
   "id": "4acec808aa27d610",
   "outputs": [
    {
     "data": {
      "text/plain": [
       "(1210, 300)"
      ]
     },
     "execution_count": 3,
     "metadata": {},
     "output_type": "execute_result"
    }
   ],
   "execution_count": 3
  },
  {
   "metadata": {
    "ExecuteTime": {
     "end_time": "2025-03-27T16:55:14.412268Z",
     "start_time": "2025-03-27T16:55:14.407875Z"
    }
   },
   "cell_type": "code",
   "source": "",
   "id": "8c810f9b5259fe65",
   "outputs": [],
   "execution_count": 4
  },
  {
   "metadata": {},
   "cell_type": "code",
   "outputs": [],
   "execution_count": null,
   "source": "",
   "id": "63adee86a16a5c45"
  }
 ],
 "metadata": {
  "kernelspec": {
   "display_name": "Python 3",
   "language": "python",
   "name": "python3"
  },
  "language_info": {
   "codemirror_mode": {
    "name": "ipython",
    "version": 2
   },
   "file_extension": ".py",
   "mimetype": "text/x-python",
   "name": "python",
   "nbconvert_exporter": "python",
   "pygments_lexer": "ipython2",
   "version": "2.7.6"
  }
 },
 "nbformat": 4,
 "nbformat_minor": 5
}
