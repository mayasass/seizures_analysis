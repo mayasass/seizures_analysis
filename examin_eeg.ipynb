{
 "cells": [
  {
   "cell_type": "code",
   "id": "initial_id",
   "metadata": {
    "collapsed": true,
    "ExecuteTime": {
     "end_time": "2024-11-16T13:01:29.709351Z",
     "start_time": "2024-11-16T13:01:29.704139Z"
    }
   },
   "source": [
    "import mne\n",
    "import numpy as np\n",
    "import pandas as pd\n",
    "from datetime import datetime"
   ],
   "outputs": [],
   "execution_count": 34
  },
  {
   "metadata": {
    "ExecuteTime": {
     "end_time": "2024-11-16T13:01:29.721233Z",
     "start_time": "2024-11-16T13:01:29.713900Z"
    }
   },
   "cell_type": "code",
   "source": [
    "#setting files paths\n",
    "recording_info_path = \"data/recording_metadata.csv\"  #big CSV file\n",
    "seizures_path = \"data/1_surf30_seizures.csv\"\n",
    "seizures_df = pd.read_csv('data/1_surf30_seizures.csv')"
   ],
   "id": "fd41fe6b7efe78b4",
   "outputs": [],
   "execution_count": 35
  },
  {
   "metadata": {
    "ExecuteTime": {
     "end_time": "2024-11-16T13:01:29.728023Z",
     "start_time": "2024-11-16T13:01:29.725356Z"
    }
   },
   "cell_type": "code",
   "source": [
    "def load_eeg_file(eeg_file_path):\n",
    "    \"\"\"\n",
    "    Step 1: Read the EEG file using nicolet function\n",
    "    \"\"\"\n",
    "    try:\n",
    "        raw = mne.io.read_raw_nicolet(eeg_file_path, ch_type='eeg', preload=True)\n",
    "        print(f\"\\nEEG file loaded successfully!\")\n",
    "        print(f\"Recording length: {raw.times.max():.2f} seconds\")\n",
    "        print(f\"Number of channels: {len(raw.ch_names)}\")\n",
    "        return raw\n",
    "    except Exception as e:\n",
    "        print(f\"Error loading EEG file: {str(e)}\")\n",
    "        return None"
   ],
   "id": "7548c12e7f299652",
   "outputs": [],
   "execution_count": 36
  },
  {
   "metadata": {
    "ExecuteTime": {
     "end_time": "2024-11-16T13:01:29.732601Z",
     "start_time": "2024-11-16T13:01:29.729149Z"
    }
   },
   "cell_type": "code",
   "source": [
    "def load_seizure_times(seizure_csv_path):\n",
    "    \"\"\"\n",
    "    Step 3: Load seizure times from the CSV file\n",
    "    \"\"\"\n",
    "    try:\n",
    "        seizures_df = pd.read_csv(seizure_csv_path)\n",
    "        # Convert onset and offset to datetime\n",
    "        seizures_df['onset'] = pd.to_datetime(seizures_df['onset'])\n",
    "        seizures_df['offset'] = pd.to_datetime(seizures_df['offset'])\n",
    "        print(f\"\\nSeizure times loaded successfully!\")\n",
    "        print(f\"Number of seizures: {len(seizures_df)}\")\n",
    "        return seizures_df\n",
    "    except Exception as e:\n",
    "        print(f\"Error loading seizure times: {str(e)}\")\n",
    "        return None"
   ],
   "id": "6419a7395d9057e8",
   "outputs": [],
   "execution_count": 37
  },
  {
   "metadata": {
    "ExecuteTime": {
     "end_time": "2024-11-16T13:01:29.740482Z",
     "start_time": "2024-11-16T13:01:29.733876Z"
    }
   },
   "cell_type": "code",
   "source": [
    "# plotting\n",
    "def find_and_plot_seizure_window(raw, seizure_start_time, recording_start_time):\n",
    "    \"\"\"\n",
    "    Steps 4-5: Find seizure in EEG and plot with 5 minutes before and after\n",
    "    \n",
    "    Parameters:\n",
    "    raw: MNE raw object\n",
    "    seizure_start_time: datetime object of seizure onset\n",
    "    recording_start_time: datetime object of recording start\n",
    "    \"\"\"\n",
    "    try:\n",
    "        # Calculate seizure time relative to recording start\n",
    "        time_diff = (seizure_start_time - recording_start_time).total_seconds()\n",
    "        \n",
    "        # Define window (5 minutes = 300 seconds before and after)\n",
    "        window_start = max(0, time_diff - 300)  # Don't go before recording start\n",
    "        window_end = min(raw.times.max(), time_diff + 300)  # Don't go past recording end\n",
    "        \n",
    "        # Extract window\n",
    "        segment = raw.copy().crop(tmin=window_start, tmax=window_end)\n",
    "        \n",
    "        # Create plot\n",
    "        title = f'Seizure at {seizure_start_time.strftime(\"%Y-%m-%d %H:%M:%S\")}'\n",
    "        fig = segment.plot(\n",
    "            scalings='auto',\n",
    "            title=title,\n",
    "            show_scrollbars=True,\n",
    "            start=290,  # Start 10 seconds before seizure\n",
    "            duration=20  # Show 20 seconds by default\n",
    "        )\n",
    "        \n",
    "        return segment\n",
    "        \n",
    "    except Exception as e:\n",
    "        print(f\"Error processing seizure window: {str(e)}\")\n",
    "        return None"
   ],
   "id": "d50b4d1cdb220993",
   "outputs": [],
   "execution_count": 38
  },
  {
   "metadata": {
    "ExecuteTime": {
     "end_time": "2024-11-16T13:01:49.484316Z",
     "start_time": "2024-11-16T13:01:29.742051Z"
    }
   },
   "cell_type": "code",
   "source": [
    "\n",
    "# Main analysis function\n",
    "def analyze_seizure_recording(eeg_file_path, seizure_csv_path, metadata_csv_path=None):\n",
    "    \"\"\"\n",
    "    Main function to run all analysis steps\n",
    "    \"\"\"\n",
    "    # Step 1: Load EEG file\n",
    "    raw = load_eeg_file(eeg_file_path)\n",
    "    if raw is None:\n",
    "        return\n",
    "    \n",
    "    # Step 2 & 3: Load seizure times\n",
    "    seizures_df = load_seizure_times(seizure_csv_path)\n",
    "    if seizures_df is None:\n",
    "        return\n",
    "    \n",
    "    # Load metadata if provided\n",
    "    if metadata_csv_path:\n",
    "        metadata_df = pd.read_csv(metadata_csv_path)\n",
    "        recording_start = pd.to_datetime(metadata_df['start_ts'].iloc[0])\n",
    "    else:\n",
    "        # If no metadata, assume recording starts at first seizure minus 10 minutes\n",
    "        recording_start = seizures_df['onset'].min() - pd.Timedelta(minutes=10)\n",
    "    \n",
    "    # Steps 4-5: Process each seizure\n",
    "    for idx, seizure in seizures_df.iterrows():\n",
    "        print(f\"\\nProcessing seizure {idx+1} of {len(seizures_df)}\")\n",
    "        print(f\"Seizure onset: {seizure['onset']}\")\n",
    "        print(f\"Seizure type: {seizure['classif.']}\")\n",
    "        \n",
    "        # Find and plot seizure window\n",
    "        segment = find_and_plot_seizure_window(raw, seizure['onset'], recording_start)\n",
    "        \n",
    "        # Optional: wait for user input before processing next seizure\n",
    "        input(\"\\nPress Enter to continue to next seizure...\")\n",
    "\n",
    "# Example usage\n",
    "if __name__ == \"__main__\":\n",
    "    # File paths\n",
    "    eeg_file = \"data/100102_0075.data\"  # Your EEG file\n",
    "    seizure_csv = \"data/1_surf30_seizures.csv\"  # Your seizure times CSV\n",
    "    metadata_csv = \"data/pat_1_surf30_file_list.csv\"  # Your metadata CSV (optional)\n",
    "    \n",
    "    # Run analysis\n",
    "    analyze_seizure_recording(eeg_file, seizure_csv, metadata_csv)"
   ],
   "id": "ba872e8238b6447e",
   "outputs": [
    {
     "name": "stdout",
     "output_type": "stream",
     "text": [
      "Reading header...\n",
      "Reading 0 ... 921599  =      0.000 ...  3599.996 secs...\n",
      "\n",
      "EEG file loaded successfully!\n",
      "Recording length: 3600.00 seconds\n",
      "Number of channels: 29\n",
      "\n",
      "Seizure times loaded successfully!\n",
      "Number of seizures: 11\n",
      "\n",
      "Processing seizure 1 of 11\n",
      "Seizure onset: 2002-10-01 12:42:40\n",
      "Seizure type: UC\n",
      "Error processing seizure window: tmin (92334.0) must be less than tmax (3599.99609375)\n",
      "\n",
      "Processing seizure 2 of 11\n",
      "Seizure onset: 2002-10-01 22:47:02\n",
      "Seizure type: CP\n",
      "Error processing seizure window: tmin (128596.0) must be less than tmax (3599.99609375)\n",
      "\n",
      "Processing seizure 3 of 11\n",
      "Seizure onset: 2002-10-02 07:59:39\n",
      "Seizure type: UC\n",
      "Error processing seizure window: tmin (161753.0) must be less than tmax (3599.99609375)\n",
      "\n",
      "Processing seizure 4 of 11\n",
      "Seizure onset: 2002-10-02 16:20:06\n",
      "Seizure type: CP\n",
      "Error processing seizure window: tmin (191780.0) must be less than tmax (3599.99609375)\n",
      "\n",
      "Processing seizure 5 of 11\n",
      "Seizure onset: 2002-10-03 09:46:30\n",
      "Seizure type: SG\n",
      "Error processing seizure window: tmin (254564.0) must be less than tmax (3599.99609375)\n",
      "\n",
      "Processing seizure 6 of 11\n",
      "Seizure onset: 2002-10-05 00:38:58\n",
      "Seizure type: CP\n",
      "Error processing seizure window: tmin (394512.0) must be less than tmax (3599.99609375)\n",
      "\n",
      "Processing seizure 7 of 11\n",
      "Seizure onset: 2002-10-05 10:15:52\n",
      "Seizure type: CP\n",
      "Error processing seizure window: tmin (429126.0) must be less than tmax (3599.99609375)\n",
      "\n",
      "Processing seizure 8 of 11\n",
      "Seizure onset: 2002-10-06 00:34:57\n",
      "Seizure type: CP\n",
      "Error processing seizure window: tmin (480671.0) must be less than tmax (3599.99609375)\n",
      "\n",
      "Processing seizure 9 of 11\n",
      "Seizure onset: 2002-10-06 08:15:38\n",
      "Seizure type: CP\n",
      "Error processing seizure window: tmin (508312.0) must be less than tmax (3599.99609375)\n",
      "\n",
      "Processing seizure 10 of 11\n",
      "Seizure onset: 2002-10-06 14:36:13\n",
      "Seizure type: CP\n",
      "Error processing seizure window: tmin (531147.0) must be less than tmax (3599.99609375)\n",
      "\n",
      "Processing seizure 11 of 11\n",
      "Seizure onset: 2002-10-07 01:36:57\n",
      "Seizure type: CP\n",
      "Error processing seizure window: tmin (570791.0) must be less than tmax (3599.99609375)\n"
     ]
    }
   ],
   "execution_count": 39
  },
  {
   "metadata": {},
   "cell_type": "markdown",
   "source": [
    "#insert path after downloading file\n",
    "mne.io.read_raw_nicolet(path_to_file)"
   ],
   "id": "64d818f07048dbba"
  },
  {
   "metadata": {},
   "cell_type": "markdown",
   "source": "",
   "id": "9bd4bb0f1665ec0d"
  }
 ],
 "metadata": {
  "kernelspec": {
   "display_name": "Python 3",
   "language": "python",
   "name": "python3"
  },
  "language_info": {
   "codemirror_mode": {
    "name": "ipython",
    "version": 2
   },
   "file_extension": ".py",
   "mimetype": "text/x-python",
   "name": "python",
   "nbconvert_exporter": "python",
   "pygments_lexer": "ipython2",
   "version": "2.7.6"
  }
 },
 "nbformat": 4,
 "nbformat_minor": 5
}
