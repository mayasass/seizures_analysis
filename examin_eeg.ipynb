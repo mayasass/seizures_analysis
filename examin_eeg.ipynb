{
 "cells": [
  {
   "cell_type": "code",
   "id": "initial_id",
   "metadata": {
    "collapsed": true,
    "is_executing": true
   },
   "source": [
    "import pandas as pd\n",
    "import numpy as np\n",
    "import mne\n",
    "import matplotlib as mpl\n",
    "from matplotlib import pyplot as plt\n",
    "mpl.use('QtAgg')\n",
    "from datetime import datetime, timedelta\n",
    "from pathlib import Path"
   ],
   "outputs": [],
   "execution_count": null
  },
  {
   "metadata": {},
   "cell_type": "markdown",
   "source": [
    "fix_electrode_names(raw)\n",
    "\n",
    "Rename old electrode names to new standard and keep only the 19 standard electrodes.\n",
    "\n",
    "Arguments:\n",
    "    raw (mne.io.Raw): Raw EEG data\n",
    "\n",
    "Returns:\n",
    "    mne.io.Raw: Processed EEG data with correct electrode names"
   ],
   "id": "7d5d7c05168f718"
  },
  {
   "metadata": {
    "ExecuteTime": {
     "end_time": "2024-11-30T12:02:51.921919Z",
     "start_time": "2024-11-30T12:02:51.896254Z"
    }
   },
   "cell_type": "code",
   "source": [
    "def fix_electrode_names(raw):\n",
    "    # Create a copy to avoid modifying the original\n",
    "    raw_processed = raw.copy()\n",
    "\n",
    "    # Define the standard 19 electrodes template\n",
    "    standard_electrodes = {'FP1', 'FP2', 'F3', 'F4', 'C3', 'C4', 'P3', 'P4',\n",
    "                           'O1', 'O2', 'F7', 'F8', 'T7', 'T8', 'P7', 'P8',\n",
    "                           'FZ', 'CZ', 'PZ'}\n",
    "\n",
    "    # Define the channel name mapping for old to new names\n",
    "    channel_mapping = {\n",
    "        'T3': 'T7',\n",
    "        'T4': 'T8',\n",
    "        'T5': 'P7',\n",
    "        'T6': 'P8'\n",
    "    }\n",
    "\n",
    "    # Check and rename channels if necessary\n",
    "    current_channels = raw_processed.ch_names\n",
    "    channels_to_rename = {}\n",
    "\n",
    "    for old_name, new_name in channel_mapping.items():\n",
    "        if old_name in current_channels:\n",
    "            channels_to_rename[old_name] = new_name\n",
    "            print(f\"Renaming channel {old_name} to {new_name}\")\n",
    "\n",
    "    if channels_to_rename:\n",
    "        raw_processed.rename_channels(channels_to_rename)\n",
    "\n",
    "    # Get current channels after renaming\n",
    "    current_channels = raw_processed.ch_names\n",
    "\n",
    "    # Find channels to drop (those not in standard_electrodes)\n",
    "    channels_to_drop = [ch for ch in current_channels if ch not in standard_electrodes]\n",
    "\n",
    "    if channels_to_drop:\n",
    "        print(f\"Dropping non-standard channels: {channels_to_drop}\")\n",
    "        raw_processed.drop_channels(channels_to_drop)\n",
    "\n",
    "    # Verify final channel set\n",
    "    final_channels = raw_processed.ch_names\n",
    "    print(f\"Final channels ({len(final_channels)}): {final_channels}\")\n",
    "\n",
    "    return raw_processed\n"
   ],
   "id": "fd41fe6b7efe78b4",
   "outputs": [],
   "execution_count": 10
  },
  {
   "metadata": {},
   "cell_type": "markdown",
   "source": [
    "preprocess_eeg(raw)\n",
    "\n",
    "Preprocess EEG data with standard pipeline (bandpass and avg reference).\n",
    "\n",
    "Args:\n",
    "    raw (mne.io.Raw): Raw EEG data\n",
    "\n",
    "Returns:\n",
    "    mne.io.Raw: Preprocessed EEG data"
   ],
   "id": "766528c32e2609a7"
  },
  {
   "metadata": {
    "ExecuteTime": {
     "end_time": "2024-11-30T12:02:51.927622Z",
     "start_time": "2024-11-30T12:02:51.922880Z"
    }
   },
   "cell_type": "code",
   "source": [
    "def preprocess_eeg(raw):\n",
    "    \n",
    "    # Create a copy to avoid modifying the original\n",
    "    raw_processed = raw.copy()\n",
    "\n",
    "    # Fix electrode names and keep only standard ones\n",
    "    raw_processed = fix_electrode_names(raw_processed)\n",
    "\n",
    "    # Apply bandpass filter (0.5-40 Hz)\n",
    "    raw_processed.filter(l_freq=0.5, h_freq=40)\n",
    "    print(\"Applied bandpass filter (0.5-40 Hz)\")\n",
    "\n",
    "    # Set average reference\n",
    "    raw_processed.set_eeg_reference(ref_channels='average')\n",
    "    print(\"Applied average reference\")\n",
    "\n",
    "    return raw_processed"
   ],
   "id": "7548c12e7f299652",
   "outputs": [],
   "execution_count": 11
  },
  {
   "metadata": {},
   "cell_type": "markdown",
   "source": [
    "compute_power_spectrum(raw_processed)\n",
    "\n",
    "Compute power spectrum and analyzed frequency bands for each channel.\n",
    "\n",
    "Args:\n",
    "    raw_processed (mne.io.Raw): Preprocessed EEG data\n",
    "\n",
    "Returns:\n",
    "    pd.DataFrame: Results containing power values for different frequency bands"
   ],
   "id": "a62495bd0197f193"
  },
  {
   "metadata": {
    "ExecuteTime": {
     "end_time": "2024-11-30T12:02:51.934832Z",
     "start_time": "2024-11-30T12:02:51.930080Z"
    }
   },
   "cell_type": "code",
   "source": [
    "def compute_power_spectrum(raw_processed):\n",
    "    \n",
    "    # Get channel names\n",
    "    channels = raw_processed.ch_names\n",
    "\n",
    "    # Initialize lists to store results\n",
    "    results = []\n",
    "\n",
    "    # Helper function to get power in specific frequency range\n",
    "    def get_freq_power(psds, freqs, fmin, fmax):\n",
    "        idx = np.logical_and(freqs >= fmin, freqs <= fmax)\n",
    "        return np.mean(psds[:, idx])\n",
    "\n",
    "    # Calculate power spectrum for each channel\n",
    "    for channel in channels:\n",
    "        # Get the spectrum object\n",
    "        spectrum = raw_processed.compute_psd(\n",
    "            method='welch',\n",
    "            picks=channel,\n",
    "            fmin=0.5,\n",
    "            fmax=40,\n",
    "            n_fft=int(raw_processed.info['sfreq'] * 4),\n",
    "            n_overlap=int(raw_processed.info['sfreq'] * 2)\n",
    "        )\n",
    "\n",
    "        # Get the data from spectrum\n",
    "        psds = spectrum.get_data()\n",
    "        freqs = spectrum.freqs\n",
    "\n",
    "        # Calculate powers for different frequency bands\n",
    "        delta_power_0p5_2 = get_freq_power(psds, freqs, 0.5, 2)\n",
    "        delta_power_1_4 = get_freq_power(psds, freqs, 1, 4)\n",
    "        total_power = get_freq_power(psds, freqs, 0.5, 40)\n",
    "\n",
    "        # Store results\n",
    "        results.append({\n",
    "            'channel': channel,\n",
    "            'delta_power_0p5_2': delta_power_0p5_2,\n",
    "            'delta_power_1_4': delta_power_1_4,\n",
    "            'total_power': total_power\n",
    "        })\n",
    "\n",
    "    # Create DataFrame from results\n",
    "    df_results = pd.DataFrame(results)\n",
    "    return df_results\n"
   ],
   "id": "d50b4d1cdb220993",
   "outputs": [],
   "execution_count": 12
  },
  {
   "metadata": {},
   "cell_type": "markdown",
   "source": [
    "analyze_delta_power(raw)\n",
    "\n",
    "Main function to analyze delta power in EEG data.\n",
    "\n",
    "Args:\n",
    "    raw (mne.io.Raw): Raw EEG data\n",
    "\n",
    "Returns:\n",
    "    pd.DataFrame: Results of power analysis"
   ],
   "id": "727a8ef84d2840b3"
  },
  {
   "metadata": {
    "ExecuteTime": {
     "end_time": "2024-11-30T12:02:51.942297Z",
     "start_time": "2024-11-30T12:02:51.939861Z"
    }
   },
   "cell_type": "code",
   "source": [
    "def analyze_delta_power(raw):\n",
    "    \n",
    "    # 1. Preprocess the data\n",
    "    raw_processed = preprocess_eeg(raw)\n",
    "\n",
    "    # 2. Compute power spectrum and analyze\n",
    "    df_results = compute_power_spectrum(raw_processed)\n",
    "\n",
    "    # 3. Save results\n",
    "    output_path = 'D:/seizures_analysis/excel_files'\n",
    "    df_results.to_csv(output_path, index=False)\n",
    "    print(f\"Analysis complete. Results saved to {output_path}\")\n",
    "\n",
    "    return df_results"
   ],
   "id": "ba872e8238b6447e",
   "outputs": [],
   "execution_count": 13
  },
  {
   "metadata": {},
   "cell_type": "markdown",
   "source": [
    "seizure_num_to_raw_data(pat_num,seizure_num)\n",
    "\n",
    "Finding paths to data.\n",
    "\n",
    "Args:\n",
    "    Patient id and one seizure number of his\n",
    "\n",
    "Returns:\n",
    "    Raw EEG data and path to the specific patient list of seizures"
   ],
   "id": "b70e2ddc60c264eb"
  },
  {
   "metadata": {
    "ExecuteTime": {
     "end_time": "2024-11-30T12:02:51.948626Z",
     "start_time": "2024-11-30T12:02:51.945463Z"
    }
   },
   "cell_type": "code",
   "source": [
    "def seizure_num_to_raw_data(pat_index,seizure_index):\n",
    "    pat_num = str(pat_index)\n",
    "\n",
    "    data_path = Path(\"E:/Ben Gurion University Of Negev Dropbox/CPL lab members/epilepsy_data/Epilepsiea\")\n",
    "    seizures_list_path = data_path / \"tables\" / \"seizure_tables\" / f\"{pat_num}_surf30_seizures\"\n",
    "    seizures_list_table = pd.read_excel(seizures_list_path)\n",
    "    seizures_data_path = data_path / \"tables\" / f\"pat_{pat_num}_surf30_file_list\"\n",
    "    seizure_rec_num = seizures_list_table.loc[seizures_list_table['seizure_num'] == seizure_index, 'file_seizure_ind'].iloc[0]\n",
    "\n",
    "    seizures_data_table = pd.read_excel(seizures_data_path)\n",
    "    seizure_recording_path = seizures_data_table.loc[(seizure_rec_num + 2), 'file_path']\n",
    "    raw = mne.io.read_raw_nicolet(seizure_recording_path)\n",
    "    \n",
    "    return raw, seizures_list_path"
   ],
   "id": "9d1d04f20c6cc727",
   "outputs": [],
   "execution_count": 14
  },
  {
   "metadata": {},
   "cell_type": "markdown",
   "source": [
    "copy_and_crop(raw,seizures_list_path,seizure_ind,sec_before = 60, sec_after = 60):\n",
    "\n",
    "Finding paths to data.\n",
    "\n",
    "Args:\n",
    "    Raw data of recording with a seizure in it, list of seizures' info, seizure index \n",
    "\n",
    "Returns:\n",
    "    Raw EEG data crop of the seizure's time +- sec variant (default 60)"
   ],
   "id": "ebdd3947d271e3c8"
  },
  {
   "metadata": {},
   "cell_type": "code",
   "outputs": [],
   "execution_count": null,
   "source": [
    "def copy_and_crop(raw, seizures_list_path, seizure_ind, sec_before = 60, sec_after = 60):\n",
    "    # Create a copy to avoid modifying the original\n",
    "    raw = raw.copy()\n",
    "    seizures_data = pd.read_csv(seizures_list_path)\n",
    "    \n",
    "    # Get recording information in seconds\n",
    "    recording_duration = raw.times[-1]  # or: len(raw.times) / raw.info['sfreq']\n",
    "    recording_start = np.datetime64(raw.info['meas_date'])\n",
    "    \n",
    "    # Get the start & end time of desired seizure\n",
    "    seizure_start = pd.to_datetime(seizures_data.loc[seizure_ind, 'onset'], format='%d/%m/%Y %H:%M').to_numpy()\n",
    "    seizure_end = pd.to_datetime(seizures_data.loc[seizure_ind, 'offset'], format='%d/%m/%Y %H:%M').to_numpy()\n",
    "    \n",
    "    # Subtraction of start and end from recording start to get duration in sec\n",
    "    seizure_start_from_tmin = (seizure_start - recording_start) / np.timedelta64(1,'s')\n",
    "    seizure_end_from_tmin = (seizure_end - recording_start) / np.timedelta64(1,'s')\n",
    "    \n",
    "    # Calculate crop times in sec (5 minutes before and after (60s))\n",
    "    crop_start = seizure_start_from_tmin - sec_before\n",
    "    crop_end = seizure_end_from_tmin + sec_after\n",
    "    print(crop_start)\n",
    "    print(crop_end)\n",
    "    \n",
    "    # Make sure we're within recording borders\n",
    "    if crop_start < 0:\n",
    "        crop_start = 0\n",
    "        print('Warning: crop_start adjusted to recording start (0)')\n",
    "    \n",
    "    if crop_end > recording_duration:\n",
    "        crop_end = recording_duration\n",
    "        print(f'Warning: crop_end adjusted to recording end ({recording_duration}s)')\n",
    "    \n",
    "    # Cropping the data\n",
    "    raw_cropped = raw.copy().crop(tmin=crop_start,tmax=crop_end)\n",
    "    # Maybe: raising assert for data exception"
   ],
   "id": "ee2fae57ff944960"
  },
  {
   "metadata": {},
   "cell_type": "markdown",
   "source": [
    "Asserts for prev def \n",
    "Assert that seizure timing makes sense\n",
    "\n",
    "    assert seizure_end_from_tmin > seizure_start_from_tmin, \"Seizure end time is before start time\"\n",
    "    assert seizure_start_from_tmin >= 0, \"Seizure starts before recording\"\n",
    "    assert seizure_end_from_tmin <= recording_duration, \"Seizure ends after recording\"\n",
    "    \n",
    "Assert final crop times are valid\n",
    "\n",
    "    assert 0 <= crop_start < crop_end <= recording_duration, \"Invalid crop times after adjustment\""
   ],
   "id": "87201fcd2dcbc02e"
  },
  {
   "metadata": {},
   "cell_type": "markdown",
   "source": [
    "# main"
   ],
   "id": "9bd4bb0f1665ec0d"
  },
  {
   "metadata": {
    "ExecuteTime": {
     "end_time": "2024-11-30T12:02:53.641452Z",
     "start_time": "2024-11-30T12:02:51.950874Z"
    }
   },
   "cell_type": "code",
   "source": [
    "if __name__ == \"__main__\":\n",
    "    try:\n",
    "        # Load your EEG data\n",
    "        raw = mne.io.read_raw_nicolet('/Users/maya/Documents/backup_lab_project/data/100102_0075.data', ch_type='eeg', preload=True)\n",
    "\n",
    "        # Run the analysis\n",
    "        results = analyze_delta_power(raw)\n",
    "        print(\"\\nFinal Results:\")\n",
    "        print(results)\n",
    "\n",
    "    except Exception as e:\n",
    "        print(f\"An error occurred: {e}\")"
   ],
   "id": "d3d32c635a7f3f73",
   "outputs": [
    {
     "name": "stdout",
     "output_type": "stream",
     "text": [
      "Reading header...\n",
      "Reading 0 ... 921599  =      0.000 ...  3599.996 secs...\n",
      "Renaming channel T3 to T7\n",
      "Renaming channel T4 to T8\n",
      "Renaming channel T5 to P7\n",
      "Renaming channel T6 to P8\n",
      "Dropping non-standard channels: ['SP1', 'SP2', 'RS', 'T1', 'T2', 'EOG1', 'EOG2', 'EMG', 'ECG', 'PHO']\n",
      "Final channels (19): ['FP1', 'FP2', 'F3', 'F4', 'C3', 'C4', 'P3', 'P4', 'O1', 'O2', 'F7', 'F8', 'T7', 'T8', 'P7', 'P8', 'FZ', 'CZ', 'PZ']\n",
      "Filtering raw data in 1 contiguous segment\n",
      "Setting up band-pass filter from 0.5 - 40 Hz\n",
      "\n",
      "FIR filter parameters\n",
      "---------------------\n",
      "Designing a one-pass, zero-phase, non-causal bandpass filter:\n",
      "- Windowed time-domain design (firwin) method\n",
      "- Hamming window with 0.0194 passband ripple and 53 dB stopband attenuation\n",
      "- Lower passband edge: 0.50\n",
      "- Lower transition bandwidth: 0.50 Hz (-6 dB cutoff frequency: 0.25 Hz)\n",
      "- Upper passband edge: 40.00 Hz\n",
      "- Upper transition bandwidth: 10.00 Hz (-6 dB cutoff frequency: 45.00 Hz)\n",
      "- Filter length: 1691 samples (6.605 s)\n",
      "\n",
      "Applied bandpass filter (0.5-40 Hz)\n",
      "EEG channel type selected for re-referencing\n",
      "Applying average reference.\n",
      "Applying a custom ('EEG',) reference.\n",
      "Applied average reference\n",
      "Effective window size : 4.000 (s)\n",
      "Effective window size : 4.000 (s)\n",
      "Effective window size : 4.000 (s)\n",
      "Effective window size : 4.000 (s)\n",
      "Effective window size : 4.000 (s)\n",
      "Effective window size : 4.000 (s)\n",
      "Effective window size : 4.000 (s)\n",
      "Effective window size : 4.000 (s)\n",
      "Effective window size : 4.000 (s)\n",
      "Effective window size : 4.000 (s)\n",
      "Effective window size : 4.000 (s)\n",
      "Effective window size : 4.000 (s)\n",
      "Effective window size : 4.000 (s)\n",
      "Effective window size : 4.000 (s)\n",
      "Effective window size : 4.000 (s)\n",
      "Effective window size : 4.000 (s)\n",
      "Effective window size : 4.000 (s)\n",
      "Effective window size : 4.000 (s)\n",
      "Effective window size : 4.000 (s)\n",
      "Analysis complete. Results saved to /Users/maya/Documents/backup_lab_project/exel_files/delta_power_analysis.csv\n",
      "\n",
      "Final Results:\n",
      "   channel  delta_power_0p5_2  delta_power_1_4   total_power\n",
      "0      FP1       1.147496e-09     2.994002e-10  5.922030e-11\n",
      "1      FP2       5.184278e-10     1.520554e-10  2.776130e-11\n",
      "2       F3       1.769689e-10     4.056590e-11  9.493893e-12\n",
      "3       F4       1.292770e-10     3.866584e-11  7.749362e-12\n",
      "4       C3       5.743583e-11     1.962702e-11  4.542665e-12\n",
      "5       C4       6.952343e-11     2.098493e-11  4.854798e-12\n",
      "6       P3       6.147124e-11     1.881475e-11  3.971404e-12\n",
      "7       P4       1.040472e-10     3.262773e-11  6.348274e-12\n",
      "8       O1       3.803940e-10     1.931258e-10  4.823346e-11\n",
      "9       O2       1.021991e-10     3.310803e-11  8.303377e-12\n",
      "10      F7       4.880393e-10     1.404181e-10  2.612069e-11\n",
      "11      F8       4.455220e-09     1.138363e-09  2.591201e-10\n",
      "12      T7       1.183441e-10     3.729864e-11  8.788713e-12\n",
      "13      T8       1.535510e-10     4.442003e-11  9.660687e-12\n",
      "14      P7       1.005498e-10     3.147732e-11  7.496030e-12\n",
      "15      P8       1.085370e-10     3.269422e-11  7.466611e-12\n",
      "16      FZ       9.068886e-11     3.286457e-11  5.925674e-12\n",
      "17      CZ       5.559652e-11     1.556208e-11  3.332698e-12\n",
      "18      PZ       4.091894e-10     1.063701e-10  2.155821e-11\n"
     ]
    }
   ],
   "execution_count": 15
  }
 ],
 "metadata": {
  "kernelspec": {
   "display_name": "Python 3",
   "language": "python",
   "name": "python3"
  },
  "language_info": {
   "codemirror_mode": {
    "name": "ipython",
    "version": 2
   },
   "file_extension": ".py",
   "mimetype": "text/x-python",
   "name": "python",
   "nbconvert_exporter": "python",
   "pygments_lexer": "ipython2",
   "version": "2.7.6"
  }
 },
 "nbformat": 4,
 "nbformat_minor": 5
}
